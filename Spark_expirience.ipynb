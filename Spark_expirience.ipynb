{
  "nbformat": 4,
  "nbformat_minor": 0,
  "metadata": {
    "colab": {
      "provenance": [],
      "gpuType": "V28"
    },
    "kernelspec": {
      "name": "python3",
      "display_name": "Python 3"
    },
    "language_info": {
      "name": "python"
    },
    "accelerator": "TPU"
  },
  "cells": [
    {
      "cell_type": "markdown",
      "source": [
        "# Running Pyspark"
      ],
      "metadata": {
        "id": "4apqeYn8dudE"
      }
    },
    {
      "cell_type": "code",
      "source": [
        "#Extracting Spark files\n",
        "#Installing FindSpark\n",
        "!apt-get install openjdk-8-jdk-headless -qq > /dev/null\n",
        "!wget -q http://archive.apache.org/dist/spark/spark-3.1.1/spark-3.1.1-bin-hadoop3.2.tgz\n",
        "!tar xf spark-3.1.1-bin-hadoop3.2.tgz\n",
        "!pip install -q findspark"
      ],
      "metadata": {
        "id": "wRKeIoUxBG6i"
      },
      "execution_count": 1,
      "outputs": []
    },
    {
      "cell_type": "code",
      "source": [
        "#setting up home enviroment\n",
        "import os\n",
        "os.environ[\"JAVA_HOME\"] = \"/usr/lib/jvm/java-8-openjdk-amd64\"\n",
        "os.environ[\"SPARK_HOME\"] = \"/content/spark-3.1.1-bin-hadoop3.2\""
      ],
      "metadata": {
        "id": "dfn6ODeoBP63"
      },
      "execution_count": 2,
      "outputs": []
    },
    {
      "cell_type": "code",
      "source": [
        "!ls"
      ],
      "metadata": {
        "colab": {
          "base_uri": "https://localhost:8080/"
        },
        "id": "eT0T5mFOBR7z",
        "outputId": "ccc875d0-7a54-4a9c-f10f-fdeb89d870ab"
      },
      "execution_count": 3,
      "outputs": [
        {
          "output_type": "stream",
          "name": "stdout",
          "text": [
            "sample_data  spark-3.1.1-bin-hadoop3.2\tspark-3.1.1-bin-hadoop3.2.tgz\n"
          ]
        }
      ]
    },
    {
      "cell_type": "code",
      "source": [
        "#Creating Spark session\n",
        "import findspark\n",
        "findspark.init()\n",
        "from pyspark.sql import SparkSession\n",
        "spark = SparkSession.builder.master(\"local[*]\").getOrCreate()\n",
        "spark.conf.set(\"spark.sql.repl.eagerEval.enabled\", True) # Property used to format output tables better\n",
        "spark"
      ],
      "metadata": {
        "colab": {
          "base_uri": "https://localhost:8080/",
          "height": 221
        },
        "id": "FHJZ4wcKBgv7",
        "outputId": "0e6d1d52-6c82-4c42-b5e6-2feaf1912ffd"
      },
      "execution_count": 4,
      "outputs": [
        {
          "output_type": "execute_result",
          "data": {
            "text/plain": [
              "<pyspark.sql.session.SparkSession at 0x78edeaaf9660>"
            ],
            "text/html": [
              "\n",
              "            <div>\n",
              "                <p><b>SparkSession - in-memory</b></p>\n",
              "                \n",
              "        <div>\n",
              "            <p><b>SparkContext</b></p>\n",
              "\n",
              "            <p><a href=\"http://6d98d664e15b:4040\">Spark UI</a></p>\n",
              "\n",
              "            <dl>\n",
              "              <dt>Version</dt>\n",
              "                <dd><code>v3.1.1</code></dd>\n",
              "              <dt>Master</dt>\n",
              "                <dd><code>local[*]</code></dd>\n",
              "              <dt>AppName</dt>\n",
              "                <dd><code>pyspark-shell</code></dd>\n",
              "            </dl>\n",
              "        </div>\n",
              "        \n",
              "            </div>\n",
              "        "
            ]
          },
          "metadata": {},
          "execution_count": 4
        }
      ]
    },
    {
      "cell_type": "code",
      "source": [
        "#Stoping Spark session\n",
        "spark.stop()"
      ],
      "metadata": {
        "id": "pr1WPnXVGZKF"
      },
      "execution_count": 5,
      "outputs": []
    },
    {
      "cell_type": "markdown",
      "source": [
        "# PySpark Shell"
      ],
      "metadata": {
        "id": "HV4G9VhsQcUF"
      }
    },
    {
      "cell_type": "code",
      "source": [
        "#Installing Pyspark\n",
        "!pip install pyspark\n",
        "import pyspark"
      ],
      "metadata": {
        "colab": {
          "base_uri": "https://localhost:8080/"
        },
        "id": "pOkcYO6bD6tb",
        "outputId": "aa3d8acf-2e90-4250-a095-d10dd98942f1"
      },
      "execution_count": 1,
      "outputs": [
        {
          "output_type": "stream",
          "name": "stdout",
          "text": [
            "Requirement already satisfied: pyspark in /usr/local/lib/python3.10/dist-packages (3.5.1)\n",
            "Requirement already satisfied: py4j==0.10.9.7 in /usr/local/lib/python3.10/dist-packages (from pyspark) (0.10.9.7)\n"
          ]
        }
      ]
    },
    {
      "cell_type": "code",
      "source": [
        "#Creating a Spark Context\n",
        "from pyspark import SparkConf\n",
        "from pyspark import SparkContext\n",
        "conf = SparkConf()\n",
        "conf.setMaster('local')\n",
        "conf.setAppName('spark-basic')\n",
        "sc = SparkContext(conf=conf)"
      ],
      "metadata": {
        "id": "23GoJ7I0EQ-R"
      },
      "execution_count": 2,
      "outputs": []
    },
    {
      "cell_type": "code",
      "source": [
        "#Spark задача массив 1:3\n",
        "#Creating an RDD\n",
        "nums = sc.parallelize([100, 1000, 10000])\n",
        "result = nums.flatMap(lambda x: range(1, x)).take(3)\n",
        "print(result)"
      ],
      "metadata": {
        "colab": {
          "base_uri": "https://localhost:8080/"
        },
        "id": "15_uk9HnG938",
        "outputId": "394f10ef-26ce-4cb0-976b-4f285db29c82"
      },
      "execution_count": 3,
      "outputs": [
        {
          "output_type": "stream",
          "name": "stdout",
          "text": [
            "[1, 2, 3]\n"
          ]
        }
      ]
    },
    {
      "cell_type": "code",
      "source": [
        "#Spark задача общее количество слов\n",
        "# Создаем RDD из строки с текстом\n",
        "text = sc.parallelize([\"Veni, vidi, vici.\", \"Alea jacta est.\", \"Gutta cavat lapidem.\"])\n",
        "\n",
        "# Разбиваем строки на слова и создаем пары (слово, 1)\n",
        "word_counts = text.flatMap(lambda line: line.split(\" \")) \\\n",
        "                  .map(lambda x: (x, 1)) \\\n",
        "                  .reduceByKey(lambda a, b: a + b)\n",
        "\n",
        "# Подсчитываем общее количество слов\n",
        "total_word_count = word_counts.count()\n",
        "\n",
        "print(f\"Общее количество слов: {total_word_count}\")"
      ],
      "metadata": {
        "colab": {
          "base_uri": "https://localhost:8080/"
        },
        "id": "varMTobLPDU6",
        "outputId": "04133540-b4a4-4df5-8803-90804ac70266"
      },
      "execution_count": null,
      "outputs": [
        {
          "output_type": "stream",
          "name": "stdout",
          "text": [
            "Общее количество слов: 9\n"
          ]
        }
      ]
    },
    {
      "cell_type": "code",
      "source": [
        "#Spark задача максимальное количество слов в строке\n",
        "# Создаем RDD из переданных строк с текстом\n",
        "text = sc.parallelize([\n",
        "    \"Carpe diem\",\n",
        "    \"Homo homini lupus est\",\n",
        "    \"Ceterum censeo carthaginem esse delendam\",\n",
        "    \"Si vis pacem, para bellum\",\n",
        "    \"Cogito, ergo sum\",\n",
        "    \"Quod licet Jovi, non licet bovi\"\n",
        "])\n",
        "\n",
        "# Разбиваем строки на слова и подсчитываем количество слов в каждой строке\n",
        "word_counts = text.map(lambda line: len(line.split(\" \")))\n",
        "\n",
        "# Находим максимальное количество слов в строке\n",
        "max_word_count = word_counts.reduce(lambda a, b: max(a, b))\n",
        "\n",
        "print(f\"Максимальное количество слов в строке: {max_word_count}\")"
      ],
      "metadata": {
        "colab": {
          "base_uri": "https://localhost:8080/"
        },
        "id": "d6WR8BreXOQA",
        "outputId": "edcbea01-8694-482c-ff04-1121b2552363"
      },
      "execution_count": null,
      "outputs": [
        {
          "output_type": "stream",
          "name": "stdout",
          "text": [
            "Максимальное количество слов в строке: 6\n"
          ]
        }
      ]
    },
    {
      "cell_type": "code",
      "source": [
        "#Spark задача подсчет суммы массива с прибавлением значения\n",
        "\n",
        "# Создаем broadcast переменную\n",
        "a = sc.broadcast(1)\n",
        "\n",
        "# Создаем аккумулятор\n",
        "b = sc.accumulator(1)\n",
        "\n",
        "# Создаем RDD из массива [1, 2, 3]\n",
        "rdd = sc.parallelize([1, 2, 3])\n",
        "\n",
        "# Применяем функцию к каждому элементу RDD\n",
        "def add_with_broadcast(x):\n",
        "    global b\n",
        "    b += x + a.value\n",
        "\n",
        "rdd.foreach(add_with_broadcast)\n",
        "\n",
        "# Получаем значение аккумулятора\n",
        "result = b.value\n",
        "print(f\"Результат: {result}\")"
      ],
      "metadata": {
        "colab": {
          "base_uri": "https://localhost:8080/"
        },
        "id": "m_E5m7b-f9PR",
        "outputId": "b4404883-ac6f-49f5-ccda-bafb0e313e62"
      },
      "execution_count": null,
      "outputs": [
        {
          "output_type": "stream",
          "name": "stdout",
          "text": [
            "Результат: 10\n"
          ]
        }
      ]
    },
    {
      "cell_type": "code",
      "source": [
        "#spark задача результатом которой возведение в 2 исходного массива,разветка в диапазоне и фильтрация значений по делимости на 3\n",
        "# Исходный массив\n",
        "nums = sc.parallelize([1, 3])\n",
        "\n",
        "# Вычисление результата\n",
        "result = (nums\n",
        "    .map(lambda x: x * x)  # Возведение в квадрат\n",
        "    .flatMap(lambda x: range(1, x))  # Развертка в диапазоны\n",
        "    .filter(lambda x: x % 3 == 0)  # Фильтрация по делимости на 3\n",
        ")\n",
        "\n",
        "# Вывод результата\n",
        "print(result.collect())  # Вывод массива в виде списка"
      ],
      "metadata": {
        "colab": {
          "base_uri": "https://localhost:8080/"
        },
        "id": "V103M8lM94PI",
        "outputId": "3c4df28b-78f8-4f28-9db2-1a99c103c6d8"
      },
      "execution_count": 7,
      "outputs": [
        {
          "output_type": "stream",
          "name": "stdout",
          "text": [
            "[3, 6]\n"
          ]
        }
      ]
    },
    {
      "cell_type": "markdown",
      "source": [
        "# Exploring the Dataset"
      ],
      "metadata": {
        "id": "TkGTzsdjMWsm"
      }
    },
    {
      "cell_type": "code",
      "source": [
        "df = spark.read.csv('/content/Mall_Customers.csv', header=True)\n",
        "df.show(5)"
      ],
      "metadata": {
        "colab": {
          "base_uri": "https://localhost:8080/"
        },
        "id": "XZ6eKGNvsHHm",
        "outputId": "b01a4605-83ff-4946-e981-64704f1d18d8"
      },
      "execution_count": null,
      "outputs": [
        {
          "output_type": "stream",
          "name": "stdout",
          "text": [
            "+----------+------+---+------------------+----------------------+\n",
            "|CustomerID|Gender|Age|Annual Income (k$)|Spending Score (1-100)|\n",
            "+----------+------+---+------------------+----------------------+\n",
            "|         1|  Male| 19|                15|                    39|\n",
            "|         2|  Male| 21|                15|                    81|\n",
            "|         3|Female| 20|                16|                     6|\n",
            "|         4|Female| 23|                16|                    77|\n",
            "|         5|Female| 31|                17|                    40|\n",
            "+----------+------+---+------------------+----------------------+\n",
            "only showing top 5 rows\n",
            "\n"
          ]
        }
      ]
    },
    {
      "cell_type": "code",
      "source": [
        "df.count()"
      ],
      "metadata": {
        "colab": {
          "base_uri": "https://localhost:8080/"
        },
        "id": "Ncv7VrpE1lF1",
        "outputId": "69ce3155-607a-4482-805f-904b5a87fedf"
      },
      "execution_count": null,
      "outputs": [
        {
          "output_type": "execute_result",
          "data": {
            "text/plain": [
              "200"
            ]
          },
          "metadata": {},
          "execution_count": 6
        }
      ]
    },
    {
      "cell_type": "code",
      "source": [
        "#drop Nan\n",
        "df = df.na.drop()"
      ],
      "metadata": {
        "id": "VcYtXush2bf3"
      },
      "execution_count": null,
      "outputs": []
    },
    {
      "cell_type": "code",
      "source": [
        "df.printSchema()"
      ],
      "metadata": {
        "colab": {
          "base_uri": "https://localhost:8080/"
        },
        "id": "Z1I5JjS01xhC",
        "outputId": "56b53dd8-b80d-4724-af42-7475d4569d2a"
      },
      "execution_count": null,
      "outputs": [
        {
          "output_type": "stream",
          "name": "stdout",
          "text": [
            "root\n",
            " |-- CustomerID: string (nullable = true)\n",
            " |-- Gender: string (nullable = true)\n",
            " |-- Age: string (nullable = true)\n",
            " |-- Annual Income (k$): string (nullable = true)\n",
            " |-- Spending Score (1-100): string (nullable = true)\n",
            "\n"
          ]
        }
      ]
    },
    {
      "cell_type": "markdown",
      "source": [
        "*we can't do manipulation with type column string.Change to integer*"
      ],
      "metadata": {
        "id": "kaCUo_iI3RLD"
      }
    },
    {
      "cell_type": "code",
      "source": [
        "import pyspark\n",
        "from pyspark.sql.types import StructType,StructField,StringType,IntegerType\n",
        "from pyspark.sql.functions import *"
      ],
      "metadata": {
        "id": "lP37zvZA96bx"
      },
      "execution_count": null,
      "outputs": []
    },
    {
      "cell_type": "code",
      "source": [
        "df = df.withColumn(\"CustomerID\",col(\"CustomerID\").cast(IntegerType()))\\\n",
        ".withColumn(\"Age\",col(\"Age\").cast(IntegerType()))\\\n",
        ".withColumn(\"Annual Income (k$)\",col(\"Annual Income (k$)\").cast(IntegerType()))\\\n",
        ".withColumn(\"Spending Score (1-100)\",col(\"Spending Score (1-100)\").cast(IntegerType()))"
      ],
      "metadata": {
        "id": "9WDjYPbw2OD4"
      },
      "execution_count": null,
      "outputs": []
    },
    {
      "cell_type": "code",
      "source": [
        "df.printSchema()"
      ],
      "metadata": {
        "colab": {
          "base_uri": "https://localhost:8080/"
        },
        "id": "Zemf5TxK99i2",
        "outputId": "947a6bba-f5f9-4978-aa37-63004e4706dd"
      },
      "execution_count": null,
      "outputs": [
        {
          "output_type": "stream",
          "name": "stdout",
          "text": [
            "root\n",
            " |-- CustomerID: integer (nullable = true)\n",
            " |-- Gender: string (nullable = true)\n",
            " |-- Age: integer (nullable = true)\n",
            " |-- Annual Income (k$): integer (nullable = true)\n",
            " |-- Spending Score (1-100): integer (nullable = true)\n",
            "\n"
          ]
        }
      ]
    },
    {
      "cell_type": "code",
      "source": [
        "df.show(5)"
      ],
      "metadata": {
        "colab": {
          "base_uri": "https://localhost:8080/"
        },
        "id": "qt0hStrp-HCb",
        "outputId": "69b7def1-9791-4c1a-c6fc-90b6a37b914e"
      },
      "execution_count": null,
      "outputs": [
        {
          "output_type": "stream",
          "name": "stdout",
          "text": [
            "+----------+------+---+------------------+----------------------+\n",
            "|CustomerID|Gender|Age|Annual Income (k$)|Spending Score (1-100)|\n",
            "+----------+------+---+------------------+----------------------+\n",
            "|         1|  Male| 19|                15|                    39|\n",
            "|         2|  Male| 21|                15|                    81|\n",
            "|         3|Female| 20|                16|                     6|\n",
            "|         4|Female| 23|                16|                    77|\n",
            "|         5|Female| 31|                17|                    40|\n",
            "+----------+------+---+------------------+----------------------+\n",
            "only showing top 5 rows\n",
            "\n"
          ]
        }
      ]
    },
    {
      "cell_type": "markdown",
      "source": [
        "*Also change name columns for simply use pyspsark sql*"
      ],
      "metadata": {
        "id": "Nc-JHpveJUvH"
      }
    },
    {
      "cell_type": "code",
      "source": [
        "#Renaming a column in PySpark\n",
        "df = df.withColumnRenamed('Annual Income (k$)', 'Income') \\\n",
        "       .withColumnRenamed('Spending Score (1-100)', 'Score')\n",
        "\n",
        "df.show(truncate=False)"
      ],
      "metadata": {
        "colab": {
          "base_uri": "https://localhost:8080/"
        },
        "id": "jb4mywiFJiXx",
        "outputId": "3789f20d-f5d2-4a03-e0d9-aeb136513098"
      },
      "execution_count": null,
      "outputs": [
        {
          "output_type": "stream",
          "name": "stdout",
          "text": [
            "+----------+------+---+------+-----+\n",
            "|CustomerID|Gender|Age|Income|Score|\n",
            "+----------+------+---+------+-----+\n",
            "|1         |Male  |19 |15    |39   |\n",
            "|2         |Male  |21 |15    |81   |\n",
            "|3         |Female|20 |16    |6    |\n",
            "|4         |Female|23 |16    |77   |\n",
            "|5         |Female|31 |17    |40   |\n",
            "|6         |Female|22 |17    |76   |\n",
            "|7         |Female|35 |18    |6    |\n",
            "|8         |Female|23 |18    |94   |\n",
            "|9         |Male  |64 |19    |3    |\n",
            "|10        |Female|30 |19    |72   |\n",
            "|11        |Male  |67 |19    |14   |\n",
            "|12        |Female|35 |19    |99   |\n",
            "|13        |Female|58 |20    |15   |\n",
            "|14        |Female|24 |20    |77   |\n",
            "|15        |Male  |37 |20    |13   |\n",
            "|16        |Male  |22 |20    |79   |\n",
            "|17        |Female|35 |21    |35   |\n",
            "|18        |Male  |20 |21    |66   |\n",
            "|19        |Male  |52 |23    |29   |\n",
            "|20        |Female|35 |23    |98   |\n",
            "+----------+------+---+------+-----+\n",
            "only showing top 20 rows\n",
            "\n"
          ]
        }
      ]
    },
    {
      "cell_type": "code",
      "source": [
        "#create a temporary view/table for working with sql\n",
        "df.createOrReplaceTempView(\"Data\")"
      ],
      "metadata": {
        "id": "GKIGJGmqBZia"
      },
      "execution_count": null,
      "outputs": []
    },
    {
      "cell_type": "code",
      "source": [
        "spark.sql(\"select * from Data\").show()"
      ],
      "metadata": {
        "colab": {
          "base_uri": "https://localhost:8080/"
        },
        "id": "JdQBhPmpBmBI",
        "outputId": "94522ff0-7ff1-4eac-b36e-30b8e7c1e144"
      },
      "execution_count": null,
      "outputs": [
        {
          "output_type": "stream",
          "name": "stdout",
          "text": [
            "+----------+------+---+------+-----+\n",
            "|CustomerID|Gender|Age|Income|Score|\n",
            "+----------+------+---+------+-----+\n",
            "|         1|  Male| 19|    15|   39|\n",
            "|         2|  Male| 21|    15|   81|\n",
            "|         3|Female| 20|    16|    6|\n",
            "|         4|Female| 23|    16|   77|\n",
            "|         5|Female| 31|    17|   40|\n",
            "|         6|Female| 22|    17|   76|\n",
            "|         7|Female| 35|    18|    6|\n",
            "|         8|Female| 23|    18|   94|\n",
            "|         9|  Male| 64|    19|    3|\n",
            "|        10|Female| 30|    19|   72|\n",
            "|        11|  Male| 67|    19|   14|\n",
            "|        12|Female| 35|    19|   99|\n",
            "|        13|Female| 58|    20|   15|\n",
            "|        14|Female| 24|    20|   77|\n",
            "|        15|  Male| 37|    20|   13|\n",
            "|        16|  Male| 22|    20|   79|\n",
            "|        17|Female| 35|    21|   35|\n",
            "|        18|  Male| 20|    21|   66|\n",
            "|        19|  Male| 52|    23|   29|\n",
            "|        20|Female| 35|    23|   98|\n",
            "+----------+------+---+------+-----+\n",
            "only showing top 20 rows\n",
            "\n"
          ]
        }
      ]
    },
    {
      "cell_type": "code",
      "source": [
        "#counting groups\n",
        "spark.sql(\"select Gender,count(*) from Data group by 1\").show()"
      ],
      "metadata": {
        "colab": {
          "base_uri": "https://localhost:8080/"
        },
        "id": "yxvNu4eQKKiK",
        "outputId": "7b5a40c3-f35e-4d3c-bb52-f25874376635"
      },
      "execution_count": null,
      "outputs": [
        {
          "output_type": "stream",
          "name": "stdout",
          "text": [
            "+------+--------+\n",
            "|Gender|count(1)|\n",
            "+------+--------+\n",
            "|Female|     112|\n",
            "|  Male|      88|\n",
            "+------+--------+\n",
            "\n"
          ]
        }
      ]
    },
    {
      "cell_type": "code",
      "source": [
        "#counting metrics for groups\n",
        "spark.sql(\"select Gender, avg(Age),avg(Income),avg(Score) from Data group by Gender ;\").show()"
      ],
      "metadata": {
        "colab": {
          "base_uri": "https://localhost:8080/"
        },
        "id": "FuLVdRQ7EjLm",
        "outputId": "40a491d6-e403-4ef5-e32e-3efe6116f60c"
      },
      "execution_count": null,
      "outputs": [
        {
          "output_type": "stream",
          "name": "stdout",
          "text": [
            "+------+------------------+-----------------+------------------+\n",
            "|Gender|          avg(Age)|      avg(Income)|        avg(Score)|\n",
            "+------+------------------+-----------------+------------------+\n",
            "|Female|38.098214285714285|            59.25|51.526785714285715|\n",
            "|  Male| 39.80681818181818|62.22727272727273| 48.51136363636363|\n",
            "+------+------------------+-----------------+------------------+\n",
            "\n"
          ]
        }
      ]
    },
    {
      "cell_type": "code",
      "source": [
        "#top 5 custumers id by score\n",
        "spark.sql(\"select CustomerID, Gender, Score from Data order by Score DESC LIMIT 5;\").show()"
      ],
      "metadata": {
        "colab": {
          "base_uri": "https://localhost:8080/"
        },
        "id": "dSNkZdS3QKEF",
        "outputId": "6be734c3-e043-453a-c195-7041f551cbab"
      },
      "execution_count": null,
      "outputs": [
        {
          "output_type": "stream",
          "name": "stdout",
          "text": [
            "+----------+------+-----+\n",
            "|CustomerID|Gender|Score|\n",
            "+----------+------+-----+\n",
            "|        12|Female|   99|\n",
            "|        20|Female|   98|\n",
            "|       186|  Male|   97|\n",
            "|       146|  Male|   97|\n",
            "|       168|Female|   95|\n",
            "+----------+------+-----+\n",
            "\n"
          ]
        }
      ]
    },
    {
      "cell_type": "code",
      "source": [
        "#count by age groups\n",
        "spark.sql(\"\"\"\n",
        "SELECT\n",
        "    CASE\n",
        "        WHEN Age BETWEEN 18 AND 25 THEN '18-25'\n",
        "        WHEN Age BETWEEN 26 AND 35 THEN '26-35'\n",
        "        ELSE '36+'\n",
        "    END AS Group,\n",
        "    count(*) AS Count\n",
        "FROM Data\n",
        "GROUP BY Group\n",
        "\"\"\").show()"
      ],
      "metadata": {
        "colab": {
          "base_uri": "https://localhost:8080/"
        },
        "id": "13XTBXmzVhk9",
        "outputId": "f34bedc4-888b-4d0e-aba2-9113b95372aa"
      },
      "execution_count": null,
      "outputs": [
        {
          "output_type": "stream",
          "name": "stdout",
          "text": [
            "+-----+-----+\n",
            "|Group|Count|\n",
            "+-----+-----+\n",
            "|18-25|   38|\n",
            "|26-35|   60|\n",
            "|  36+|  102|\n",
            "+-----+-----+\n",
            "\n"
          ]
        }
      ]
    },
    {
      "cell_type": "code",
      "source": [
        "#average income by age groups\n",
        "spark.sql(\"\"\"\n",
        "SELECT\n",
        "    CASE\n",
        "        WHEN Age BETWEEN 18 AND 25 THEN '18-25'\n",
        "        WHEN Age BETWEEN 26 AND 35 THEN '26-35'\n",
        "        ELSE '36+'\n",
        "    END AS Group,\n",
        "    AVG(Income) AS Avg_Income\n",
        "    FROM Data\n",
        "GROUP BY Group\n",
        "\"\"\").show()"
      ],
      "metadata": {
        "colab": {
          "base_uri": "https://localhost:8080/"
        },
        "id": "6HUTMVrY7qHD",
        "outputId": "f3fc5a32-8a7e-46e1-c432-16800fbb200e"
      },
      "execution_count": null,
      "outputs": [
        {
          "output_type": "stream",
          "name": "stdout",
          "text": [
            "+-----+-----------------+\n",
            "|Group|       Avg_Income|\n",
            "+-----+-----------------+\n",
            "|18-25|45.68421052631579|\n",
            "|26-35|            68.15|\n",
            "|  36+|61.63725490196079|\n",
            "+-----+-----------------+\n",
            "\n"
          ]
        }
      ]
    },
    {
      "cell_type": "markdown",
      "source": [
        "*Summarry: As a result, we found out that more clients are women, women have less income but more score rating. Most customers over the age of 36 and they have less income than the group 26-35*"
      ],
      "metadata": {
        "id": "60ir1MSWDjjJ"
      }
    },
    {
      "cell_type": "markdown",
      "source": [
        " # Linear Regression Model"
      ],
      "metadata": {
        "id": "Znuvve8VQvFk"
      }
    },
    {
      "cell_type": "markdown",
      "source": [
        "*First of all, we need to change Gender to boolean data type for creating model*"
      ],
      "metadata": {
        "id": "qi4BmxEdhZfy"
      }
    },
    {
      "cell_type": "code",
      "source": [
        "df = df.withColumn(\"GenderCode\", when(df.Gender == \"Male\", 0).otherwise(1))"
      ],
      "metadata": {
        "id": "mHtkbQY1hsTA"
      },
      "execution_count": null,
      "outputs": []
    },
    {
      "cell_type": "code",
      "source": [
        "df.show(5)"
      ],
      "metadata": {
        "colab": {
          "base_uri": "https://localhost:8080/"
        },
        "id": "s1hzhhHVh3qO",
        "outputId": "1ec22b04-fb03-4048-cffa-f44fb67140d4"
      },
      "execution_count": null,
      "outputs": [
        {
          "output_type": "stream",
          "name": "stdout",
          "text": [
            "+----------+------+---+------+-----+----------+\n",
            "|CustomerID|Gender|Age|Income|Score|GenderCode|\n",
            "+----------+------+---+------+-----+----------+\n",
            "|         1|  Male| 19|    15|   39|         0|\n",
            "|         2|  Male| 21|    15|   81|         0|\n",
            "|         3|Female| 20|    16|    6|         1|\n",
            "|         4|Female| 23|    16|   77|         1|\n",
            "|         5|Female| 31|    17|   40|         1|\n",
            "+----------+------+---+------+-----+----------+\n",
            "only showing top 5 rows\n",
            "\n"
          ]
        }
      ]
    },
    {
      "cell_type": "code",
      "source": [
        "df.printSchema()"
      ],
      "metadata": {
        "colab": {
          "base_uri": "https://localhost:8080/"
        },
        "id": "wyCvEnddh9MX",
        "outputId": "ee9cdeac-c897-4b5d-8d23-606adb36f860"
      },
      "execution_count": null,
      "outputs": [
        {
          "output_type": "stream",
          "name": "stdout",
          "text": [
            "root\n",
            " |-- CustomerID: integer (nullable = true)\n",
            " |-- Gender: string (nullable = true)\n",
            " |-- Age: integer (nullable = true)\n",
            " |-- Income: integer (nullable = true)\n",
            " |-- Score: integer (nullable = true)\n",
            " |-- GenderCode: integer (nullable = false)\n",
            "\n"
          ]
        }
      ]
    },
    {
      "cell_type": "code",
      "source": [
        "from pyspark.ml.feature import VectorAssembler\n",
        "from pyspark.ml.regression import LinearRegression\n"
      ],
      "metadata": {
        "id": "H0ACm1XOvnem"
      },
      "execution_count": null,
      "outputs": []
    },
    {
      "cell_type": "code",
      "source": [
        "#Input all the features in one vector column\n",
        "assembler = VectorAssembler(inputCols=['Income','Age'], outputCol = 'Attributes')\n",
        "output = assembler.transform(df)\n",
        "#Input vs Output\n",
        "finalized_data = output.select(\"Attributes\",\"Score\")\n",
        "finalized_data.show()"
      ],
      "metadata": {
        "colab": {
          "base_uri": "https://localhost:8080/"
        },
        "id": "2SMkURLxvoyc",
        "outputId": "37418eab-7e13-4a92-b9eb-d4042d9a9a25"
      },
      "execution_count": null,
      "outputs": [
        {
          "output_type": "stream",
          "name": "stdout",
          "text": [
            "+-----------+-----+\n",
            "| Attributes|Score|\n",
            "+-----------+-----+\n",
            "|[15.0,19.0]|   39|\n",
            "|[15.0,21.0]|   81|\n",
            "|[16.0,20.0]|    6|\n",
            "|[16.0,23.0]|   77|\n",
            "|[17.0,31.0]|   40|\n",
            "|[17.0,22.0]|   76|\n",
            "|[18.0,35.0]|    6|\n",
            "|[18.0,23.0]|   94|\n",
            "|[19.0,64.0]|    3|\n",
            "|[19.0,30.0]|   72|\n",
            "|[19.0,67.0]|   14|\n",
            "|[19.0,35.0]|   99|\n",
            "|[20.0,58.0]|   15|\n",
            "|[20.0,24.0]|   77|\n",
            "|[20.0,37.0]|   13|\n",
            "|[20.0,22.0]|   79|\n",
            "|[21.0,35.0]|   35|\n",
            "|[21.0,20.0]|   66|\n",
            "|[23.0,52.0]|   29|\n",
            "|[23.0,35.0]|   98|\n",
            "+-----------+-----+\n",
            "only showing top 20 rows\n",
            "\n"
          ]
        }
      ]
    },
    {
      "cell_type": "code",
      "source": [
        "#Split training and testing data\n",
        "train_data,test_data = finalized_data.randomSplit([0.7,0.3])\n",
        "regressor = LinearRegression(featuresCol = 'Attributes', labelCol = 'Score')\n",
        "#Learn to fit the model from training set\n",
        "regressor = regressor.fit(train_data)\n",
        "#To predict the prices on testing set\n",
        "pred = regressor.evaluate(test_data)\n",
        "#Predict the model\n",
        "pred.predictions.show()"
      ],
      "metadata": {
        "colab": {
          "base_uri": "https://localhost:8080/"
        },
        "id": "x51bX6XjvwCr",
        "outputId": "bc1e54b6-d354-47a7-b316-d27113bdcd88"
      },
      "execution_count": null,
      "outputs": [
        {
          "output_type": "stream",
          "name": "stdout",
          "text": [
            "+-----------+-----+------------------+\n",
            "| Attributes|Score|        prediction|\n",
            "+-----------+-----+------------------+\n",
            "|[15.0,21.0]|   81|   56.334241866265|\n",
            "|[16.0,23.0]|   77| 55.35657960490568|\n",
            "|[17.0,31.0]|   40|51.196417772759524|\n",
            "|[20.0,58.0]|   15| 37.12468249092764|\n",
            "|[21.0,35.0]|   35|  49.4074351078468|\n",
            "|[23.0,52.0]|   29| 40.55669484842335|\n",
            "|[24.0,25.0]|   73|54.961113845867075|\n",
            "|[28.0,35.0]|   61| 49.98963161016751|\n",
            "|[29.0,40.0]|   31| 47.42071956341477|\n",
            "|[30.0,21.0]|   73| 57.58180579980938|\n",
            "|[33.0,49.0]|   14| 42.97965392284635|\n",
            "|[37.0,20.0]|   75| 58.69441889726123|\n",
            "|[38.0,24.0]|   92| 56.65592344563963|\n",
            "|[39.0,24.0]|   65| 56.73909437454259|\n",
            "|[39.0,31.0]|   61|53.026178208624614|\n",
            "|[43.0,47.0]|   41|44.872196402138215|\n",
            "|[46.0,27.0]|   51| 55.73004109146988|\n",
            "|[48.0,32.0]|   47|  53.2442999736201|\n",
            "|[48.0,63.0]|   51|36.801385524554775|\n",
            "|[48.0,68.0]|   48| 34.14930254889907|\n",
            "+-----------+-----+------------------+\n",
            "only showing top 20 rows\n",
            "\n"
          ]
        }
      ]
    },
    {
      "cell_type": "code",
      "source": [
        "#coefficient of the regression model\n",
        "coeff = regressor.coefficients\n",
        "#X and Y intercept\n",
        "intr = regressor.intercept\n",
        "print (\"The coefficient of the model is : %a\" %coeff)\n",
        "print (\"The Intercept of the model is : %f\" %intr)"
      ],
      "metadata": {
        "colab": {
          "base_uri": "https://localhost:8080/"
        },
        "id": "4p0LFhN6v8cT",
        "outputId": "56bf74bd-79be-4160-ef90-e7f37814b092"
      },
      "execution_count": null,
      "outputs": [
        {
          "output_type": "stream",
          "name": "stdout",
          "text": [
            "The coefficient of the model is : DenseVector([0.0832, -0.5304])\n",
            "The Intercept of the model is : 66.225426\n"
          ]
        }
      ]
    },
    {
      "cell_type": "code",
      "source": [
        "from pyspark.ml.evaluation import RegressionEvaluator\n",
        "eval = RegressionEvaluator(labelCol=\"Score\", predictionCol=\"prediction\", metricName=\"rmse\")\n",
        "# Root Mean Square Error\n",
        "rmse = eval.evaluate(pred.predictions)\n",
        "print(\"- Root Mean Square Error        RMSE: %6.3f\" % rmse)\n",
        "# Mean Square Error\n",
        "mse = eval.evaluate(pred.predictions, {eval.metricName: \"mse\"})\n",
        "print(\"- Mean Square Error              MSE: %6.3f\" % mse)\n",
        "# Mean Absolute Error\n",
        "mae = eval.evaluate(pred.predictions, {eval.metricName: \"mae\"})\n",
        "print(\"- Mean Absolute Error            MAE: %6.3f\" % mae)\n",
        "# r2 - coefficient of determination\n",
        "r2 = eval.evaluate(pred.predictions, {eval.metricName: \"r2\"})\n",
        "print(\"- Coefficient of determination    r2: %6.3f\" %r2)"
      ],
      "metadata": {
        "colab": {
          "base_uri": "https://localhost:8080/"
        },
        "id": "WhmfCY5kw-r_",
        "outputId": "1abac22c-cc92-484a-852e-287562f179e3"
      },
      "execution_count": null,
      "outputs": [
        {
          "output_type": "stream",
          "name": "stdout",
          "text": [
            "- Root Mean Square Error        RMSE: 23.666\n",
            "- Mean Square Error              MSE: 560.080\n",
            "- Mean Absolute Error            MAE: 20.463\n",
            "- Coefficient of determination    r2:  0.105\n"
          ]
        }
      ]
    },
    {
      "cell_type": "markdown",
      "source": [
        "*Summarry: We can see the best model fit result. This model is of low quality and is not suitable for use. It is generally considered that a model with R2 > 70% can be considered for further work*"
      ],
      "metadata": {
        "id": "pkg_pdI9yp3i"
      }
    }
  ]
}